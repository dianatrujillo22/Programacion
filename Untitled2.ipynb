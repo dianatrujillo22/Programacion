{
  "nbformat": 4,
  "nbformat_minor": 0,
  "metadata": {
    "colab": {
      "provenance": [],
      "authorship_tag": "ABX9TyMD2ZkeqHnqdQRe8x1y7MC/",
      "include_colab_link": true
    },
    "kernelspec": {
      "name": "python3",
      "display_name": "Python 3"
    },
    "language_info": {
      "name": "python"
    }
  },
  "cells": [
    {
      "cell_type": "markdown",
      "metadata": {
        "id": "view-in-github",
        "colab_type": "text"
      },
      "source": [
        "<a href=\"https://colab.research.google.com/github/dianatrujillo22/Programacion/blob/main/Untitled2.ipynb\" target=\"_parent\"><img src=\"https://colab.research.google.com/assets/colab-badge.svg\" alt=\"Open In Colab\"/></a>"
      ]
    },
    {
      "cell_type": "code",
      "execution_count": 1,
      "metadata": {
        "colab": {
          "base_uri": "https://localhost:8080/"
        },
        "id": "qjkgiAv0y5zR",
        "outputId": "6a804edf-3363-4880-b416-87dd4d0f7f2d"
      },
      "outputs": [
        {
          "output_type": "stream",
          "name": "stdout",
          "text": [
            "Bienvenida Imelda\n",
            "El pastel de vainilla tiene un costo de:  250\n",
            "El pastel de chocolate tiene un costo de:  250\n",
            "El costo del pastel de vainilla  es de tamaño grande\n",
            "El costo del pastel de chocolate es de tamaño grande\n",
            "----------PASTELERIA EL MENCHO----------\n",
            "------------------MENU------------------\n",
            "El pastel de vainilla tiene un costo de $350 el de tamaño grande\n",
            "El pastel de vainilla tiene un costo de $250 el de tamaño mediano\n",
            "El pastel de chocolate tiene un costo de $350 el de tamaño grande\n",
            "El pastel de chocolate tiene un costo de $250 el de tamaño mediano\n",
            "El pastel de fresa tiene un costo de $350 el de tamaño grande\n",
            "El pastel de fresa tiene un costo de $250 el de tamaño mediano\n",
            "escriba el sabor de pastel de tu preferencia chocolate \n",
            "escriba el tamaño del pastel grande\n",
            "desea imprimir su ticket?si\n",
            "----------PASTELERIA EL MENCHO----------\n",
            "PASTEL SABOR chocolate  DE TAMAÑO grande\n",
            "TOTAL: $350\n",
            "----MUCHAS GRACIAS POR SU PREFERENCIA---\n",
            "Tenga un buen dia Imelda\n"
          ]
        }
      ],
      "source": [
        "class Saludo():\n",
        "  def __init__(self,precio,nombre):\n",
        "      self.precio  = precio\n",
        "      self.nombre = nombre\n",
        "  def saludar(self):\n",
        "      print(f'Bienvenida {self.nombre}')\n",
        "s = Saludo('250','Imelda')\n",
        "s.saludar()\n",
        "\n",
        "class pasteles:\n",
        "    def __init__(self,precio):\n",
        "        self.precio  = precio\n",
        "    def tamaño (self, mensaje):\n",
        "            print(mensaje)\n",
        "\n",
        "vainilla = pasteles (250)\n",
        "chocolate = pasteles (250)\n",
        "\n",
        "print ('El pastel de vainilla tiene un costo de: ', vainilla.precio)\n",
        "print ('El pastel de chocolate tiene un costo de: ', chocolate.precio)\n",
        "\n",
        "vainilla.tamaño  ('El costo del pastel de vainilla  es de tamaño grande')\n",
        "chocolate.tamaño  ('El costo del pastel de chocolate es de tamaño grande')\n",
        "\n",
        "class pasteles:\n",
        "    def __init__(self,sabor,precio,tamaño):\n",
        "        self.sabor= sabor\n",
        "        self.precio= precio\n",
        "        self.tamaño= tamaño\n",
        "\n",
        "        print(f\"El pastel de {self.sabor} tiene un costo de ${self.precio} el de tamaño {self.tamaño}\")\n",
        "\n",
        "print(\"----------PASTELERIA EL MENCHO----------\")\n",
        "print(\"------------------MENU------------------\")\n",
        "vainilla = pasteles(\"vainilla\",\"350\", \"grande\")\n",
        "\n",
        "vainilla2= pasteles(\"vainilla\",\"250\", \"mediano\")\n",
        "\n",
        "chocolate = pasteles(\"chocolate\",\"350\",\"grande\")\n",
        "\n",
        "chocolate2= pasteles(\"chocolate\",\"250\", \"mediano\")\n",
        "\n",
        "fresa = pasteles(\"fresa\",\"350\", \"grande\")\n",
        "\n",
        "fresa2= pasteles(\"fresa\",\"250\", \"mediano\")\n",
        "\n",
        "cake=input(\"escriba el sabor de pastel de tu preferencia \")\n",
        "\n",
        "size=input(\"escriba el tamaño del pastel \")\n",
        "if cake== \"vainilla\":\n",
        "    print(\"pastel de vainilla de tamaño \",size)\n",
        "    if size==(\"grande\"):\n",
        "        print(\"costo de $350\")\n",
        "    if size==(\"mediano\"):\n",
        "        print(\"costo de $250\")\n",
        "if cake== \"chocolate\":\n",
        "    print(\"pastel de chocolate de tamaño \",size)\n",
        "    if size==(\"grande\"):\n",
        "        print(\"costo de $350\")\n",
        "    if size==(\"mediano\"):\n",
        "        print(\"costo de $250\")\n",
        "if cake== \"fresa\":\n",
        "    print(\"pastel de fresa de tamaño \",size, )\n",
        "    if size==(\"grande\"):\n",
        "        print(\"costo de $350\")\n",
        "    if size==(\"mediano\"):\n",
        "        print(\"costo de $250\")\n",
        "\n",
        "opcion=input(\"desea imprimir su ticket?\")\n",
        "if opcion== \"si\":\n",
        "    print(\"----------PASTELERIA EL MENCHO----------\")\n",
        "    print(\"PASTEL SABOR\", cake,\"DE TAMAÑO\",size)\n",
        "    if size==\"grande\":\n",
        "        print(\"TOTAL: $350\")\n",
        "    if size==\"mediano\":\n",
        "        print(\"TOTAL: $250\")\n",
        "    print(\"----MUCHAS GRACIAS POR SU PREFERENCIA---\")\n",
        "if opcion==\"no\":\n",
        "    print(\"muchas gracias, vuelva pronto!\")\n",
        "\n",
        "\n",
        "\n",
        "\n",
        "\n",
        "\n",
        "class saludo:\n",
        "    def __init__(self,mensaje,nombre):\n",
        "        self.mensaje=mensaje\n",
        "        self.nombre=nombre\n",
        "        print(f\"{self.mensaje} {self.nombre}\")\n",
        "\n",
        "usuario = saludo(\"Tenga un buen dia\",\"Imelda\")"
      ]
    }
  ]
}