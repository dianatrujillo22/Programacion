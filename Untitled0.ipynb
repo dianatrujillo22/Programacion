{
  "nbformat": 4,
  "nbformat_minor": 0,
  "metadata": {
    "colab": {
      "provenance": [],
      "authorship_tag": "ABX9TyOz1uVTLWg7q6c9Z65lh3GQ",
      "include_colab_link": true
    },
    "kernelspec": {
      "name": "python3",
      "display_name": "Python 3"
    },
    "language_info": {
      "name": "python"
    }
  },
  "cells": [
    {
      "cell_type": "markdown",
      "metadata": {
        "id": "view-in-github",
        "colab_type": "text"
      },
      "source": [
        "<a href=\"https://colab.research.google.com/github/dianatrujillo22/Programacion/blob/main/Untitled0.ipynb\" target=\"_parent\"><img src=\"https://colab.research.google.com/assets/colab-badge.svg\" alt=\"Open In Colab\"/></a>"
      ]
    },
    {
      "cell_type": "code",
      "execution_count": null,
      "metadata": {
        "colab": {
          "base_uri": "https://localhost:8080/"
        },
        "id": "9DzT4jb91NCQ",
        "outputId": "51dbcd3b-3f36-44d3-8286-02e324da0673"
      },
      "outputs": [
        {
          "output_type": "stream",
          "name": "stdout",
          "text": [
            "ESCRIBE EL NUMERO 1: 12\n",
            "ESCRIBE EL NUMERO 2: 12\n",
            "LA SUMA DE LOS NUMEROS ES IGUAL A 24\n"
          ]
        }
      ],
      "source": [
        "#EQUIPO 2 PROGRAMACION AVANZADA\n",
        "#Elabora un programa que sea la suma de dos numeros.\n",
        "\n",
        "num1 = int(input(\"ESCRIBE EL NUMERO 1: \"))\n",
        "num2 = int(input(\"ESCRIBE EL NUMERO 2: \"))\n",
        "suma = num1 + num2\n",
        "print (\"LA SUMA DE LOS NUMEROS ES IGUAL A\", suma)"
      ]
    }
  ]
}