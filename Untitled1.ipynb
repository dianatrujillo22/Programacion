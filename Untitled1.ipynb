{
  "nbformat": 4,
  "nbformat_minor": 0,
  "metadata": {
    "colab": {
      "provenance": [],
      "authorship_tag": "ABX9TyPjsCLHyCtC7mqMTe3roqIX",
      "include_colab_link": true
    },
    "kernelspec": {
      "name": "python3",
      "display_name": "Python 3"
    },
    "language_info": {
      "name": "python"
    }
  },
  "cells": [
    {
      "cell_type": "markdown",
      "metadata": {
        "id": "view-in-github",
        "colab_type": "text"
      },
      "source": [
        "<a href=\"https://colab.research.google.com/github/dianatrujillo22/Programacion/blob/main/Untitled1.ipynb\" target=\"_parent\"><img src=\"https://colab.research.google.com/assets/colab-badge.svg\" alt=\"Open In Colab\"/></a>"
      ]
    },
    {
      "cell_type": "code",
      "execution_count": null,
      "metadata": {
        "id": "hdhh_Z2jnR2P"
      },
      "outputs": [],
      "source": [
        "#EQUIPO 2 PROGRAMACION AVANZADA\n",
        "#Crea un programa que te pida tu edad y en base a eso que indique si eres menor de edad o mayor\n",
        "\n",
        "edad = int(input(\"INGRESA TU EDAD: \"))\n",
        "if edad>= 18:\n",
        "    print (\"ERES MAYOR DE EDAD\")\n",
        "else:\n",
        "    print(\"ERES MENOR DE EDAD\")\n",
        ""
      ]
    }
  ]
}